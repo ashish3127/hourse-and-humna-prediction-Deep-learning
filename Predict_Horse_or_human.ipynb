{
  "nbformat": 4,
  "nbformat_minor": 0,
  "metadata": {
    "colab": {
      "name": "Predict Horse or human.ipynb",
      "provenance": [],
      "mount_file_id": "1i-2NtaVFHPdyz4UASfn8v3zQ1X3fMcjX",
      "authorship_tag": "ABX9TyM1kbUNzUt/q4KgDMOEasSH",
      "include_colab_link": true
    },
    "kernelspec": {
      "name": "python3",
      "display_name": "Python 3"
    }
  },
  "cells": [
    {
      "cell_type": "markdown",
      "metadata": {
        "id": "view-in-github",
        "colab_type": "text"
      },
      "source": [
        "<a href=\"https://colab.research.google.com/github/ashish3127/hourse-and-humna-prediction-Deep-learning/blob/main/Predict_Horse_or_human.ipynb\" target=\"_parent\"><img src=\"https://colab.research.google.com/assets/colab-badge.svg\" alt=\"Open In Colab\"/></a>"
      ]
    },
    {
      "cell_type": "markdown",
      "metadata": {
        "id": "5hZtFuTLcpNU"
      },
      "source": [
        "Here we are loading train CNN model to predict Given input(image) is Horse of Human"
      ]
    },
    {
      "cell_type": "code",
      "metadata": {
        "id": "si31FE6BcevV"
      },
      "source": [
        "# import Libraries\r\n",
        "import numpy as np\r\n",
        "import keras\r\n",
        "from keras.preprocessing.image import ImageDataGenerator"
      ],
      "execution_count": null,
      "outputs": []
    },
    {
      "cell_type": "markdown",
      "metadata": {
        "id": "u4GgIp2odYbh"
      },
      "source": [
        "Import model"
      ]
    },
    {
      "cell_type": "code",
      "metadata": {
        "id": "OMDfifjndWs7"
      },
      "source": [
        "model_path1=\"/content/drive/MyDrive/cnn/horse-or-human.h5\"\r\n",
        "\r\n",
        "model1=keras.models.load_model(model_path1)"
      ],
      "execution_count": null,
      "outputs": []
    },
    {
      "cell_type": "code",
      "metadata": {
        "id": "K_beWV3ufbgH"
      },
      "source": [
        "h1=\"/content/drive/MyDrive/download (1).jpg\"\r\n",
        "h2=\"/content/drive/MyDrive/download (2).jpg\"\r\n",
        "h3=\"/content/drive/MyDrive/download.jpg\""
      ],
      "execution_count": null,
      "outputs": []
    },
    {
      "cell_type": "code",
      "metadata": {
        "id": "FhHKT9E9el3o"
      },
      "source": [
        "from keras.preprocessing import image\r\n",
        "def pred_human_horse(model1,horse_or_human):\r\n",
        "  test_image = image.load_img(horse_or_human, target_size =(150, 150))\r\n",
        "  test_image = image.img_to_array(test_image)/255\r\n",
        "  test_image =np.expand_dims(test_image, axis=0)\r\n",
        "\r\n",
        "  result=model1.predict(test_image).round(3)\r\n",
        "\r\n",
        "  pred =np.argmax(result)\r\n",
        "  print(result, \"--->>>\", pred)\r\n",
        "\r\n",
        "  if pred == 0:\r\n",
        "    print(\"predict >> Horse\")\r\n",
        "  else:\r\n",
        "    print(\"predict >>Human\")  "
      ],
      "execution_count": null,
      "outputs": []
    },
    {
      "cell_type": "markdown",
      "metadata": {
        "id": "n6WlGBgQjcd4"
      },
      "source": [
        "Predict output"
      ]
    },
    {
      "cell_type": "code",
      "metadata": {
        "colab": {
          "base_uri": "https://localhost:8080/"
        },
        "id": "o2Wk84y-jB-A",
        "outputId": "7ab76a55-f75e-4af2-d87c-86be58f912e5"
      },
      "source": [
        "for horse_or_human in [h1,h2,h3]:\r\n",
        "  pred_human_horse(model1, horse_or_human)"
      ],
      "execution_count": null,
      "outputs": [
        {
          "output_type": "stream",
          "text": [
            "[[1. 0.]] --->>> 0\n",
            "predict >> Horse\n",
            "[[0. 1.]] --->>> 1\n",
            "predict >>Human\n",
            "[[0.986 0.014]] --->>> 0\n",
            "predict >> Horse\n"
          ],
          "name": "stdout"
        }
      ]
    },
    {
      "cell_type": "code",
      "metadata": {
        "id": "jzbzTstvjzp3"
      },
      "source": [
        ""
      ],
      "execution_count": null,
      "outputs": []
    }
  ]
}